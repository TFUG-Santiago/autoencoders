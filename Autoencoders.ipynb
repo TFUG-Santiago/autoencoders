{
 "cells": [
  {
   "cell_type": "markdown",
   "id": "789c6d0d",
   "metadata": {},
   "source": [
    "# Autoencoders\n",
    "\n",
    "En este _notebook_ vamos a aprender sobre _autoencoders_. Un _autoencoders_ es un tipo de red neuronal que aprende a encontrar un _encoding_ eficiente para un _dataset_; por lo tanto, es un tipo de aprendizaje no supervisado, y puede utilizarse para reducir dimensionalidad de un _dataset_. \n",
    "\n",
    "En este ejemplo vamos a trabajar con el _dataset_ MNIST."
   ]
  },
  {
   "cell_type": "code",
   "execution_count": 1,
   "id": "e5f21cda",
   "metadata": {},
   "outputs": [],
   "source": [
    "import numpy as np\n",
    "import pandas as pd\n",
    "import matplotlib.pyplot as plt\n",
    "import seaborn as sns\n",
    "from sklearn.datasets import fetch_openml\n",
    "\n",
    "mnist = fetch_openml('mnist_784', version=1, as_frame=True)\n",
    "mnist.keys()\n",
    "\n",
    "X, y = mnist['data'], mnist['target']\n",
    "X_train, X_test, y_train, y_test = X[:60000], X[60000:], y[:60000], y[60000:]"
   ]
  },
  {
   "cell_type": "markdown",
   "id": "e45ea917",
   "metadata": {},
   "source": [
    "Al igual que cuando utilizábamos PCA, es recomendable estandarizar nuestros datos."
   ]
  },
  {
   "cell_type": "code",
   "execution_count": 2,
   "id": "6a509c03",
   "metadata": {},
   "outputs": [],
   "source": [
    "from sklearn.preprocessing import StandardScaler\n",
    "\n",
    "std_sclr = StandardScaler()\n",
    "X_train_std = std_sclr.fit_transform(X_train)\n",
    "X_test_std = std_sclr.transform(X_test)"
   ]
  },
  {
   "cell_type": "markdown",
   "id": "76766ff1",
   "metadata": {},
   "source": [
    "## Reduciendo dimensiones con un autoencoder\n",
    "\n",
    "La idea general del _autoencoder_ es aprovecharnos de que una red neuronal puede aprender su propia representación de los datos. Supongamos que tenemos una red con una única _hidden layer_; a grandes rasgos, esta _layer_ lo que hace es aprender la representación más apropiada para resolver el problema. Así, un _autoencoder_ en vez de entregarnos un _output_ (por ejemplo, una respuesta de un problema de clasificación), nos entrega una representación en menos dimensiones.\n",
    "\n",
    "El _autoencoder_ se divide en dos componentes, una red neuronal **_encoder_** y otra red **_decoder_**. La red _encoder_ aprende a tomar una instancia y representarla en una nueva dimensionalidad, mientras que la red _decoder_ toma una instancia en la nueva dimensionalidad y la deja en la dimensión original.\n",
    "\n",
    "¿Pero cómo entrenamos esta red? La idea es primero instanciar la red _enconder_, luego la red _decoder_, y hacer que el _output_ de la red _encoder_ sea el _input_ de la _decoder_. Esto forma una gran red que será nuestro _autoencoder_. La parte interesante es que el input del _autoencoder_ son las instancias que queremos reducir, y para cada instancia, su respuesta es la misma instancia, ya que lo que queremos es que la respuesta del _autoencoder_ (es decir, la respuesta de la red _decoder_) sea la misma instancia que habíamos entregado al _autoencoder_ (es decir, el _input_ del _encoder_)."
   ]
  },
  {
   "cell_type": "code",
   "execution_count": 3,
   "id": "0afef355",
   "metadata": {},
   "outputs": [
    {
     "name": "stdout",
     "output_type": "stream",
     "text": [
      "Epoch 1/100\n",
      "1875/1875 [==============================] - 2s 1ms/step - loss: 0.8342 - val_loss: 0.7635\n",
      "Epoch 2/100\n",
      "1875/1875 [==============================] - 2s 944us/step - loss: 0.7499 - val_loss: 0.7478\n",
      "Epoch 3/100\n",
      "1875/1875 [==============================] - 2s 939us/step - loss: 0.7451 - val_loss: 0.7456\n",
      "Epoch 4/100\n",
      "1875/1875 [==============================] - 2s 931us/step - loss: 0.7438 - val_loss: 0.7448\n",
      "Epoch 5/100\n",
      "1875/1875 [==============================] - 2s 915us/step - loss: 0.7432 - val_loss: 0.7445\n",
      "Epoch 6/100\n",
      "1875/1875 [==============================] - 2s 918us/step - loss: 0.7430 - val_loss: 0.7441\n",
      "Epoch 7/100\n",
      "1875/1875 [==============================] - 2s 943us/step - loss: 0.7429 - val_loss: 0.7441\n",
      "Epoch 8/100\n",
      "1875/1875 [==============================] - 2s 916us/step - loss: 0.7427 - val_loss: 0.7440\n",
      "Epoch 9/100\n",
      "1875/1875 [==============================] - 2s 926us/step - loss: 0.7427 - val_loss: 0.7438\n",
      "Epoch 10/100\n",
      "1875/1875 [==============================] - 2s 913us/step - loss: 0.7426 - val_loss: 0.7439\n",
      "Epoch 11/100\n",
      "1875/1875 [==============================] - 2s 936us/step - loss: 0.7426 - val_loss: 0.7438\n",
      "Epoch 12/100\n",
      "1875/1875 [==============================] - 2s 914us/step - loss: 0.7426 - val_loss: 0.7440\n",
      "Epoch 13/100\n",
      "1875/1875 [==============================] - 2s 922us/step - loss: 0.7425 - val_loss: 0.7439\n",
      "Epoch 14/100\n",
      "1875/1875 [==============================] - 2s 917us/step - loss: 0.7425 - val_loss: 0.7438\n",
      "Epoch 15/100\n",
      "1875/1875 [==============================] - 2s 912us/step - loss: 0.7425 - val_loss: 0.7439\n",
      "Epoch 16/100\n",
      "1875/1875 [==============================] - 2s 926us/step - loss: 0.7425 - val_loss: 0.7439\n",
      "Epoch 17/100\n",
      "1875/1875 [==============================] - 2s 910us/step - loss: 0.7425 - val_loss: 0.7438\n",
      "Epoch 18/100\n",
      "1875/1875 [==============================] - 2s 921us/step - loss: 0.7425 - val_loss: 0.7438\n",
      "Epoch 19/100\n",
      "1875/1875 [==============================] - 2s 905us/step - loss: 0.7424 - val_loss: 0.7437\n",
      "Epoch 20/100\n",
      "1875/1875 [==============================] - 2s 908us/step - loss: 0.7424 - val_loss: 0.7438\n",
      "Epoch 21/100\n",
      "1875/1875 [==============================] - 2s 914us/step - loss: 0.7424 - val_loss: 0.7439\n",
      "Epoch 22/100\n",
      "1875/1875 [==============================] - 2s 917us/step - loss: 0.7424 - val_loss: 0.7437\n",
      "Epoch 23/100\n",
      "1875/1875 [==============================] - 2s 964us/step - loss: 0.7424 - val_loss: 0.7435\n",
      "Epoch 24/100\n",
      "1875/1875 [==============================] - 2s 922us/step - loss: 0.7424 - val_loss: 0.7437\n",
      "Epoch 25/100\n",
      "1875/1875 [==============================] - 2s 910us/step - loss: 0.7424 - val_loss: 0.7436\n",
      "Epoch 26/100\n",
      "1875/1875 [==============================] - 2s 941us/step - loss: 0.7424 - val_loss: 0.7437\n",
      "Epoch 27/100\n",
      "1875/1875 [==============================] - 2s 913us/step - loss: 0.7425 - val_loss: 0.7439\n",
      "Epoch 28/100\n",
      "1875/1875 [==============================] - 2s 908us/step - loss: 0.7426 - val_loss: 0.7437\n",
      "Epoch 29/100\n",
      "1875/1875 [==============================] - 2s 918us/step - loss: 0.7428 - val_loss: 0.7438\n",
      "Epoch 30/100\n",
      "1875/1875 [==============================] - 2s 1ms/step - loss: 0.7431 - val_loss: 0.7441\n",
      "Epoch 31/100\n",
      "1875/1875 [==============================] - 2s 1ms/step - loss: 0.7431 - val_loss: 0.7438\n",
      "Epoch 32/100\n",
      "1875/1875 [==============================] - 2s 1ms/step - loss: 0.7429 - val_loss: 0.7435\n",
      "Epoch 33/100\n",
      "1875/1875 [==============================] - 2s 951us/step - loss: 0.7428 - val_loss: 0.7437\n",
      "Epoch 34/100\n",
      "1875/1875 [==============================] - 2s 937us/step - loss: 0.7427 - val_loss: 0.7437\n",
      "Epoch 35/100\n",
      "1875/1875 [==============================] - 2s 924us/step - loss: 0.7426 - val_loss: 0.7436\n",
      "Epoch 36/100\n",
      "1875/1875 [==============================] - 2s 957us/step - loss: 0.7427 - val_loss: 0.7438\n",
      "Epoch 37/100\n",
      "1875/1875 [==============================] - 2s 978us/step - loss: 0.7427 - val_loss: 0.7439\n",
      "Epoch 38/100\n",
      "1875/1875 [==============================] - 2s 932us/step - loss: 0.7429 - val_loss: 0.7438\n",
      "Epoch 39/100\n",
      "1875/1875 [==============================] - 2s 946us/step - loss: 0.7434 - val_loss: 0.7437\n",
      "Epoch 40/100\n",
      "1875/1875 [==============================] - 2s 931us/step - loss: 0.7433 - val_loss: 0.7437\n",
      "Epoch 41/100\n",
      "1875/1875 [==============================] - 2s 996us/step - loss: 0.7427 - val_loss: 0.7437\n",
      "Epoch 42/100\n",
      "1875/1875 [==============================] - 2s 948us/step - loss: 0.7427 - val_loss: 0.7437\n"
     ]
    }
   ],
   "source": [
    "from tensorflow import keras\n",
    "\n",
    "num_dim = len(X_train.columns)\n",
    "\n",
    "# Red encoder, recibe un input de dimensión num_dim\n",
    "# Entrega un output de dimensión 5\n",
    "encoder = keras.models.Sequential([\n",
    "    keras.layers.Dense(5),\n",
    "])\n",
    "\n",
    "# Red decoder, recibe un input de dimensión 5\n",
    "# Entrega un output de dimensión num_dim\n",
    "decoder = keras.models.Sequential([\n",
    "    keras.layers.Dense(num_dim),\n",
    "])\n",
    "\n",
    "# Concatenamos el encoder con el decoder\n",
    "autoencoder = keras.models.Sequential([encoder, decoder])\n",
    "\n",
    "# Compilamos el modelo\n",
    "autoencoder.compile(\n",
    "    loss='mse', \n",
    "    optimizer=keras.optimizers.SGD(learning_rate=0.1)\n",
    ")\n",
    "\n",
    "# El entrenamiento toma los datos originales, los codifica/decodifica \n",
    "# en vectores de la misma dimensión.\n",
    "# Decidimos que debe parar si la métrica del MSE no mejora en 10 épocas. \n",
    "autoencoder.fit(\n",
    "    X_train_std, X_train_std, \n",
    "    epochs=100, validation_data=(X_test_std, X_test_std),\n",
    "    callbacks=[keras.callbacks.EarlyStopping(patience=10)]\n",
    ")\n",
    "\n",
    "# Ahora vamos a reducir la dimensión del dataset de prueba\n",
    "# Simplemente llamamos al encoder\n",
    "X_auto = encoder.predict(X_test_std)"
   ]
  },
  {
   "cell_type": "markdown",
   "id": "4467df10",
   "metadata": {},
   "source": [
    "Ahora veamos cómo resultó la reducción de dimensionalidad."
   ]
  },
  {
   "cell_type": "code",
   "execution_count": 4,
   "id": "3cdb4831",
   "metadata": {},
   "outputs": [
    {
     "data": {
      "text/plain": [
       "array([[-5.7988992e+00,  1.7810218e+00, -1.4026288e+00, -3.4711971e+00,\n",
       "         3.4450185e+00],\n",
       "       [ 1.7704525e+00, -4.4218102e+00,  3.0685527e+00,  9.8014402e+00,\n",
       "        -8.5204859e+00],\n",
       "       [-4.7570415e+00,  2.6641319e+00,  4.5884690e+00, -6.9501901e-01,\n",
       "        -4.1335206e+00],\n",
       "       ...,\n",
       "       [-2.1572463e-01,  4.8436666e+00, -3.1371403e+00, -2.0285618e+00,\n",
       "         1.5560164e+00],\n",
       "       [-1.8014403e-03,  2.0610003e+00,  3.3297570e+00, -5.3294001e+00,\n",
       "        -1.7652885e+00],\n",
       "       [ 9.4273319e+00, -5.5489469e+00, -5.5007229e+00, -8.8151836e-01,\n",
       "        -8.3772469e+00]], dtype=float32)"
      ]
     },
     "execution_count": 4,
     "metadata": {},
     "output_type": "execute_result"
    }
   ],
   "source": [
    "X_auto"
   ]
  },
  {
   "cell_type": "markdown",
   "id": "6ada3c42",
   "metadata": {},
   "source": [
    "## Probando el enfoque en un entorno de clasificación\n",
    "\n",
    "¿Cómo podemos saber si esta reducción de dimensionalidad sirve de algo? Una posibilidad es probarlo de forma indirecta: ejecutando algún tipo de tarea de aprendizaje sobre estos datos, y comparando los resultados.\n",
    "\n",
    "Aquí, comparamos con la tarea de clasificar los números de MNIST usando un árbol de decisión. Vamos a comparar el resultado de usar el árbol de decisión sobre el _dataset_ original, usando PCA, y usando un _autoencoder_."
   ]
  },
  {
   "cell_type": "markdown",
   "id": "3555372e",
   "metadata": {},
   "source": [
    "Partimos analizando el _dataset_ original."
   ]
  },
  {
   "cell_type": "code",
   "execution_count": 5,
   "id": "75c8049e",
   "metadata": {},
   "outputs": [
    {
     "data": {
      "text/plain": [
       "0.7936"
      ]
     },
     "execution_count": 5,
     "metadata": {},
     "output_type": "execute_result"
    }
   ],
   "source": [
    "from sklearn.tree import DecisionTreeClassifier\n",
    "from sklearn.model_selection import cross_val_score\n",
    "\n",
    "clf = DecisionTreeClassifier()\n",
    "\n",
    "scores = cross_val_score(clf, X_test_std, y_test, cv=5, scoring='accuracy')\n",
    "np.mean(scores)"
   ]
  },
  {
   "cell_type": "markdown",
   "id": "17f89894",
   "metadata": {},
   "source": [
    "Ahora para el dataset transformado con un _autoencoder_."
   ]
  },
  {
   "cell_type": "code",
   "execution_count": 6,
   "id": "130b87ac",
   "metadata": {},
   "outputs": [
    {
     "data": {
      "text/plain": [
       "0.635"
      ]
     },
     "execution_count": 6,
     "metadata": {},
     "output_type": "execute_result"
    }
   ],
   "source": [
    "scores = cross_val_score(clf, X_auto, y_test, cv=5, scoring='accuracy')\n",
    "np.mean(scores)"
   ]
  },
  {
   "cell_type": "markdown",
   "id": "0478f28a",
   "metadata": {},
   "source": [
    "Y finalmente probamos con la reducción de dimensionalidad de PCA"
   ]
  },
  {
   "cell_type": "code",
   "execution_count": 7,
   "id": "c63c6e20",
   "metadata": {},
   "outputs": [],
   "source": [
    "from sklearn.decomposition import PCA\n",
    "\n",
    "pca = PCA(n_components=5)\n",
    "pca.fit(X_train_std)\n",
    "X_test_pca = pca.transform(X_test)"
   ]
  },
  {
   "cell_type": "code",
   "execution_count": 8,
   "id": "9e894a35",
   "metadata": {},
   "outputs": [
    {
     "data": {
      "text/plain": [
       "0.6303"
      ]
     },
     "execution_count": 8,
     "metadata": {},
     "output_type": "execute_result"
    }
   ],
   "source": [
    "scores = cross_val_score(clf, X_test_pca, y_test, cv=5, scoring='accuracy')\n",
    "np.mean(scores)"
   ]
  },
  {
   "cell_type": "markdown",
   "id": "d221e39a",
   "metadata": {},
   "source": [
    "## Creando mejores autoencoders\n",
    "\n",
    "¿Es posible mejorar el desempeño del _autoencoder_? Una primera idea es agregar más capas a las redes _encoder_ y _decoder_. Por lo mismo, lo que vamos hacer es pasar de la dimensión original a 200 neuronas, luego a 50 y luego a 5. Después para decodificar, vamos a ir de 5 a 50, de 50 a 200 y de 200 a la dimensión original."
   ]
  },
  {
   "cell_type": "code",
   "execution_count": 9,
   "id": "cd2a19e6",
   "metadata": {},
   "outputs": [
    {
     "name": "stdout",
     "output_type": "stream",
     "text": [
      "Epoch 1/100\n",
      "1875/1875 [==============================] - 5s 2ms/step - loss: 0.7963 - val_loss: 0.7491\n",
      "Epoch 2/100\n",
      "1875/1875 [==============================] - 4s 2ms/step - loss: 0.7570 - val_loss: 0.7686\n",
      "Epoch 3/100\n",
      "1875/1875 [==============================] - 4s 2ms/step - loss: 0.7480 - val_loss: 0.7450\n",
      "Epoch 4/100\n",
      "1875/1875 [==============================] - 4s 2ms/step - loss: 0.7436 - val_loss: 0.7444\n",
      "Epoch 5/100\n",
      "1875/1875 [==============================] - 4s 2ms/step - loss: 0.7430 - val_loss: 0.7441\n",
      "Epoch 6/100\n",
      "1875/1875 [==============================] - 4s 2ms/step - loss: 0.7429 - val_loss: 0.7444\n",
      "Epoch 7/100\n",
      "1875/1875 [==============================] - 4s 2ms/step - loss: 0.7428 - val_loss: 0.7442\n",
      "Epoch 8/100\n",
      "1875/1875 [==============================] - 4s 2ms/step - loss: 0.7427 - val_loss: 0.7438\n",
      "Epoch 9/100\n",
      "1875/1875 [==============================] - 4s 2ms/step - loss: 0.7427 - val_loss: 0.7439\n",
      "Epoch 10/100\n",
      "1875/1875 [==============================] - 5s 2ms/step - loss: 0.7426 - val_loss: 0.7438\n",
      "Epoch 11/100\n",
      "1875/1875 [==============================] - 4s 2ms/step - loss: 0.7426 - val_loss: 0.7438\n",
      "Epoch 12/100\n",
      "1875/1875 [==============================] - 4s 2ms/step - loss: 0.7426 - val_loss: 0.7438\n",
      "Epoch 13/100\n",
      "1875/1875 [==============================] - 4s 2ms/step - loss: 0.7425 - val_loss: 0.7436\n",
      "Epoch 14/100\n",
      "1875/1875 [==============================] - 4s 2ms/step - loss: 0.7425 - val_loss: 0.7437\n",
      "Epoch 15/100\n",
      "1875/1875 [==============================] - 4s 2ms/step - loss: 0.7425 - val_loss: 0.7435\n",
      "Epoch 16/100\n",
      "1875/1875 [==============================] - 4s 2ms/step - loss: 0.7425 - val_loss: 0.7436\n",
      "Epoch 17/100\n",
      "1875/1875 [==============================] - 4s 2ms/step - loss: 0.7425 - val_loss: 0.7437\n",
      "Epoch 18/100\n",
      "1875/1875 [==============================] - 4s 2ms/step - loss: 0.7425 - val_loss: 0.7437\n",
      "Epoch 19/100\n",
      "1875/1875 [==============================] - 4s 2ms/step - loss: 0.7424 - val_loss: 0.7437\n",
      "Epoch 20/100\n",
      "1875/1875 [==============================] - 4s 2ms/step - loss: 0.7424 - val_loss: 0.7437\n",
      "Epoch 21/100\n",
      "1875/1875 [==============================] - 4s 2ms/step - loss: 0.7424 - val_loss: 0.7436\n",
      "Epoch 22/100\n",
      "1875/1875 [==============================] - 4s 2ms/step - loss: 0.7424 - val_loss: 0.7436\n",
      "Epoch 23/100\n",
      "1875/1875 [==============================] - 4s 2ms/step - loss: 0.7424 - val_loss: 0.7435\n",
      "Epoch 24/100\n",
      "1875/1875 [==============================] - 4s 2ms/step - loss: 0.7424 - val_loss: 0.7436\n",
      "Epoch 25/100\n",
      "1875/1875 [==============================] - 4s 2ms/step - loss: 0.7424 - val_loss: 0.7438\n",
      "Epoch 26/100\n",
      "1875/1875 [==============================] - 4s 2ms/step - loss: 0.7424 - val_loss: 0.7435\n",
      "Epoch 27/100\n",
      "1875/1875 [==============================] - 4s 2ms/step - loss: 0.7424 - val_loss: 0.7434\n",
      "Epoch 28/100\n",
      "1875/1875 [==============================] - 4s 2ms/step - loss: 0.7424 - val_loss: 0.7436\n",
      "Epoch 29/100\n",
      "1875/1875 [==============================] - 4s 2ms/step - loss: 0.7423 - val_loss: 0.7437\n",
      "Epoch 30/100\n",
      "1875/1875 [==============================] - 4s 2ms/step - loss: 0.7424 - val_loss: 0.7436\n",
      "Epoch 31/100\n",
      "1875/1875 [==============================] - 4s 2ms/step - loss: 0.7423 - val_loss: 0.7436\n",
      "Epoch 32/100\n",
      "1875/1875 [==============================] - 4s 2ms/step - loss: 0.7423 - val_loss: 0.7437\n",
      "Epoch 33/100\n",
      "1875/1875 [==============================] - 4s 2ms/step - loss: 0.7423 - val_loss: 0.7435\n",
      "Epoch 34/100\n",
      "1875/1875 [==============================] - 4s 2ms/step - loss: 0.7423 - val_loss: 0.7436\n",
      "Epoch 35/100\n",
      "1875/1875 [==============================] - 4s 2ms/step - loss: 0.7423 - val_loss: 0.7437\n",
      "Epoch 36/100\n",
      "1875/1875 [==============================] - 4s 2ms/step - loss: 0.7423 - val_loss: 0.7436\n",
      "Epoch 37/100\n",
      "1875/1875 [==============================] - 5s 2ms/step - loss: 0.7423 - val_loss: 0.7436\n"
     ]
    }
   ],
   "source": [
    "# El input es de la dimensión original del dataset\n",
    "encoder = keras.models.Sequential([\n",
    "    keras.layers.Dense(200),\n",
    "    keras.layers.Dense(50),\n",
    "    keras.layers.Dense(5),\n",
    "])\n",
    "\n",
    "# El output es de la dimensión original del dataset\n",
    "decoder = keras.models.Sequential([\n",
    "    keras.layers.Dense(50),\n",
    "    keras.layers.Dense(200),\n",
    "    keras.layers.Dense(num_dim),\n",
    "])\n",
    "\n",
    "autoencoder = keras.models.Sequential([encoder, decoder])\n",
    "\n",
    "# Compilamos el modelo\n",
    "autoencoder.compile(\n",
    "    loss='mse', \n",
    "    optimizer=keras.optimizers.SGD(learning_rate=0.1)\n",
    ")\n",
    "\n",
    "# El entrenamiento toma los datos originales, los codifica/decodifica \n",
    "# en vectores de la misma dimensión.\n",
    "# Decidimos que debe parar si la métrica del MSE no mejora en 10 épocas. \n",
    "autoencoder.fit(\n",
    "    X_train_std, X_train_std, \n",
    "    epochs=100, validation_data=(X_test_std, X_test_std),\n",
    "    callbacks=[keras.callbacks.EarlyStopping(patience=10)]\n",
    ")\n",
    "\n",
    "# Ahora vamos a reducir la dimensión del dataset de prueba\n",
    "# Simplemente llamamos al encoder\n",
    "X_auto_deep = encoder.predict(X_test_std)"
   ]
  },
  {
   "cell_type": "markdown",
   "id": "1d4f6519",
   "metadata": {},
   "source": [
    "Veamos ahora la _performance_ en el problema de clasificación."
   ]
  },
  {
   "cell_type": "code",
   "execution_count": 10,
   "id": "d09a4b0c",
   "metadata": {},
   "outputs": [
    {
     "data": {
      "text/plain": [
       "0.6324"
      ]
     },
     "execution_count": 10,
     "metadata": {},
     "output_type": "execute_result"
    }
   ],
   "source": [
    "scores = cross_val_score(clf, X_auto_deep, y_test, cv=5, scoring='accuracy')\n",
    "np.mean(scores)"
   ]
  },
  {
   "cell_type": "markdown",
   "id": "d9a03fd3",
   "metadata": {},
   "source": [
    "Como vemos, no nos estamos acercando al valor del _accuracy_ sin reducción de dimensionalidad. Ahora para entender mejor el resultado, vamos a comprimir y descomprimir una imagen, visualizando su descompresión."
   ]
  },
  {
   "cell_type": "code",
   "execution_count": 11,
   "id": "9f37b902",
   "metadata": {},
   "outputs": [
    {
     "data": {
      "image/png": "[encoded data removed]",
      "text/plain": [
       "<Figure size 432x288 with 1 Axes>"
      ]
     },
     "metadata": {
      "needs_background": "light"
     },
     "output_type": "display_data"
    }
   ],
   "source": [
    "some_digit = X_test.iloc[0]\n",
    "some_digit_image = some_digit.values.reshape(28, 28)\n",
    "\n",
    "plt.imshow(some_digit_image, cmap='binary')\n",
    "plt.axis('off')\n",
    "plt.show()"
   ]
  },
  {
   "cell_type": "code",
   "execution_count": 12,
   "id": "8bb5c36d",
   "metadata": {
    "scrolled": true
   },
   "outputs": [
    {
     "data": {
      "text/plain": [
       "array([[ 0.56924  ,  3.665839 ,  2.5347252,  1.7768265, -0.9328206]],\n",
       "      dtype=float32)"
      ]
     },
     "execution_count": 12,
     "metadata": {},
     "output_type": "execute_result"
    }
   ],
   "source": [
    "some_digit_std = std_sclr.transform([some_digit])\n",
    "some_digit_compressed = encoder.predict(some_digit_std)\n",
    "some_digit_compressed"
   ]
  },
  {
   "cell_type": "code",
   "execution_count": 13,
   "id": "d0cf1615",
   "metadata": {},
   "outputs": [
    {
     "data": {
      "text/plain": [
       "(1, 5)"
      ]
     },
     "execution_count": 13,
     "metadata": {},
     "output_type": "execute_result"
    }
   ],
   "source": [
    "some_digit_compressed.shape"
   ]
  },
  {
   "cell_type": "code",
   "execution_count": 14,
   "id": "a9195a58",
   "metadata": {},
   "outputs": [
    {
     "data": {
      "text/plain": [
       "(1, 784)"
      ]
     },
     "execution_count": 14,
     "metadata": {},
     "output_type": "execute_result"
    }
   ],
   "source": [
    "some_digit_inv = decoder.predict(some_digit_compressed)\n",
    "some_digit_inv_no_std = std_sclr.inverse_transform(some_digit_inv)\n",
    "some_digit_inv_no_std.shape"
   ]
  },
  {
   "cell_type": "code",
   "execution_count": 15,
   "id": "72af6b21",
   "metadata": {},
   "outputs": [
    {
     "data": {
      "image/png": "[encoded data removed]",
      "text/plain": [
       "<Figure size 432x288 with 1 Axes>"
      ]
     },
     "metadata": {
      "needs_background": "light"
     },
     "output_type": "display_data"
    }
   ],
   "source": [
    "some_digit_image_v2 = some_digit_inv_no_std[0].reshape(28, 28)\n",
    "\n",
    "plt.imshow(some_digit_image_v2, cmap='binary')\n",
    "plt.axis('off')\n",
    "plt.show()"
   ]
  },
  {
   "cell_type": "markdown",
   "id": "29d46315",
   "metadata": {},
   "source": [
    "Como vemos, el resultado es bastante malo. De todas formas, tenemos que considerar que estamos pasando de 784 a 5 dimensiones. De todas formas, veremos que podemos mejorar esto."
   ]
  },
  {
   "cell_type": "markdown",
   "id": "52784fb7",
   "metadata": {},
   "source": [
    "## Visualización de PCA\n",
    "\n",
    "Para tener un punto de referencia, vamos a hacer una compresión con PCA a 5 dimensiones de la misma imagen."
   ]
  },
  {
   "cell_type": "code",
   "execution_count": 16,
   "id": "961c2333",
   "metadata": {},
   "outputs": [
    {
     "data": {
      "text/plain": [
       "array([[-5.03126719,  3.64113018, -7.32273826, -0.55061364,  2.77316063]])"
      ]
     },
     "execution_count": 16,
     "metadata": {},
     "output_type": "execute_result"
    }
   ],
   "source": [
    "some_digit_std = std_sclr.transform([some_digit])\n",
    "some_digit_compressed = pca.transform(some_digit_std)\n",
    "some_digit_compressed"
   ]
  },
  {
   "cell_type": "code",
   "execution_count": 17,
   "id": "eadeef6b",
   "metadata": {},
   "outputs": [
    {
     "data": {
      "text/plain": [
       "(1, 5)"
      ]
     },
     "execution_count": 17,
     "metadata": {},
     "output_type": "execute_result"
    }
   ],
   "source": [
    "some_digit_compressed.shape"
   ]
  },
  {
   "cell_type": "code",
   "execution_count": 18,
   "id": "1ac53dfe",
   "metadata": {},
   "outputs": [
    {
     "data": {
      "text/plain": [
       "(1, 784)"
      ]
     },
     "execution_count": 18,
     "metadata": {},
     "output_type": "execute_result"
    }
   ],
   "source": [
    "some_digit_inv = pca.inverse_transform(some_digit_compressed)\n",
    "some_digit_inv_no_std = std_sclr.inverse_transform(some_digit_inv)\n",
    "some_digit_inv_no_std.shape"
   ]
  },
  {
   "cell_type": "code",
   "execution_count": 19,
   "id": "1ad39f2e",
   "metadata": {},
   "outputs": [
    {
     "data": {
      "image/png": "[encoded data removed]",
      "text/plain": [
       "<Figure size 432x288 with 1 Axes>"
      ]
     },
     "metadata": {
      "needs_background": "light"
     },
     "output_type": "display_data"
    }
   ],
   "source": [
    "some_digit_image_v2_pca = some_digit_inv_no_std[0].reshape(28, 28)\n",
    "\n",
    "plt.imshow(some_digit_image_v2_pca, cmap='binary')\n",
    "plt.axis('off')\n",
    "plt.show()"
   ]
  },
  {
   "cell_type": "markdown",
   "id": "e96f635f",
   "metadata": {},
   "source": [
    "Como vemos, las imágenes son bastante similares."
   ]
  },
  {
   "cell_type": "markdown",
   "id": "12a2a35a",
   "metadata": {},
   "source": [
    "## Autoencoders con activación no lineal\n",
    "\n",
    "Un segundo enfoque, y lo más clásico en la práctica, es agregar una activación no lineal al final de cada capa. En este caso usamos la función Scaled Exponential Linear Unit (SELU)."
   ]
  },
  {
   "cell_type": "code",
   "execution_count": 20,
   "id": "bf77b856",
   "metadata": {},
   "outputs": [
    {
     "name": "stdout",
     "output_type": "stream",
     "text": [
      "Epoch 1/100\n",
      "1875/1875 [==============================] - 5s 2ms/step - loss: 0.8080 - val_loss: 0.7637\n",
      "Epoch 2/100\n",
      "1875/1875 [==============================] - 4s 2ms/step - loss: 0.7576 - val_loss: 0.7534\n",
      "Epoch 3/100\n",
      "1875/1875 [==============================] - 4s 2ms/step - loss: 0.7432 - val_loss: 0.7336\n",
      "Epoch 4/100\n",
      "1875/1875 [==============================] - 4s 2ms/step - loss: 0.7169 - val_loss: 0.7074\n",
      "Epoch 5/100\n",
      "1875/1875 [==============================] - 4s 2ms/step - loss: 0.6930 - val_loss: 0.6883\n",
      "Epoch 6/100\n",
      "1875/1875 [==============================] - 4s 2ms/step - loss: 0.6755 - val_loss: 0.6725\n",
      "Epoch 7/100\n",
      "1875/1875 [==============================] - 4s 2ms/step - loss: 0.6606 - val_loss: 0.6581\n",
      "Epoch 8/100\n",
      "1875/1875 [==============================] - 4s 2ms/step - loss: 0.6463 - val_loss: 0.6444\n",
      "Epoch 9/100\n",
      "1875/1875 [==============================] - 4s 2ms/step - loss: 0.6329 - val_loss: 0.6317\n",
      "Epoch 10/100\n",
      "1875/1875 [==============================] - 4s 2ms/step - loss: 0.6208 - val_loss: 0.6193\n",
      "Epoch 11/100\n",
      "1875/1875 [==============================] - 5s 2ms/step - loss: 0.6096 - val_loss: 0.6097\n",
      "Epoch 12/100\n",
      "1875/1875 [==============================] - 4s 2ms/step - loss: 0.5994 - val_loss: 0.6008\n",
      "Epoch 13/100\n",
      "1875/1875 [==============================] - 4s 2ms/step - loss: 0.5898 - val_loss: 0.5912\n",
      "Epoch 14/100\n",
      "1875/1875 [==============================] - 4s 2ms/step - loss: 0.5814 - val_loss: 0.5830\n",
      "Epoch 15/100\n",
      "1875/1875 [==============================] - 5s 2ms/step - loss: 0.5747 - val_loss: 0.5828\n",
      "Epoch 16/100\n",
      "1875/1875 [==============================] - 5s 2ms/step - loss: 0.5682 - val_loss: 0.5681\n",
      "Epoch 17/100\n",
      "1875/1875 [==============================] - 5s 2ms/step - loss: 0.5609 - val_loss: 0.5661\n",
      "Epoch 18/100\n",
      "1875/1875 [==============================] - 5s 2ms/step - loss: 0.5706 - val_loss: 0.5857\n",
      "Epoch 19/100\n",
      "1875/1875 [==============================] - 5s 2ms/step - loss: 0.5630 - val_loss: 0.5651\n",
      "Epoch 20/100\n",
      "1875/1875 [==============================] - 4s 2ms/step - loss: 0.5522 - val_loss: 0.5797\n",
      "Epoch 21/100\n",
      "1875/1875 [==============================] - 4s 2ms/step - loss: 0.5800 - val_loss: 0.6473\n",
      "Epoch 22/100\n",
      "1875/1875 [==============================] - 4s 2ms/step - loss: 0.5726 - val_loss: 0.6324\n",
      "Epoch 23/100\n",
      "1875/1875 [==============================] - 4s 2ms/step - loss: 0.5608 - val_loss: 0.5921\n",
      "Epoch 24/100\n",
      "1875/1875 [==============================] - 4s 2ms/step - loss: 0.5745 - val_loss: 0.5620\n",
      "Epoch 25/100\n",
      "1875/1875 [==============================] - 4s 2ms/step - loss: 0.5532 - val_loss: 0.5602\n",
      "Epoch 26/100\n",
      "1875/1875 [==============================] - 5s 2ms/step - loss: 0.5724 - val_loss: 0.5877\n",
      "Epoch 27/100\n",
      "1875/1875 [==============================] - 4s 2ms/step - loss: 0.5803 - val_loss: 0.5843\n",
      "Epoch 28/100\n",
      "1875/1875 [==============================] - 5s 2ms/step - loss: 0.5955 - val_loss: 0.6046\n",
      "Epoch 29/100\n",
      "1875/1875 [==============================] - 4s 2ms/step - loss: 0.5592 - val_loss: 0.5486\n",
      "Epoch 30/100\n",
      "1875/1875 [==============================] - 4s 2ms/step - loss: 0.5588 - val_loss: 0.6016\n",
      "Epoch 31/100\n",
      "1875/1875 [==============================] - 5s 2ms/step - loss: 0.5474 - val_loss: 0.5480\n",
      "Epoch 32/100\n",
      "1875/1875 [==============================] - 4s 2ms/step - loss: 0.5265 - val_loss: 0.5594\n",
      "Epoch 33/100\n",
      "1875/1875 [==============================] - 4s 2ms/step - loss: 0.5432 - val_loss: 0.5505\n",
      "Epoch 34/100\n",
      "1875/1875 [==============================] - 4s 2ms/step - loss: 0.5403 - val_loss: 0.5457\n",
      "Epoch 35/100\n",
      "1875/1875 [==============================] - 5s 3ms/step - loss: 0.5334 - val_loss: 0.5284\n",
      "Epoch 36/100\n",
      "1875/1875 [==============================] - 5s 3ms/step - loss: 0.5151 - val_loss: 0.5390\n",
      "Epoch 37/100\n",
      "1875/1875 [==============================] - 5s 2ms/step - loss: 0.5167 - val_loss: 0.5406\n",
      "Epoch 38/100\n",
      "1875/1875 [==============================] - 4s 2ms/step - loss: 0.8014 - val_loss: 0.7082\n",
      "Epoch 39/100\n",
      "1875/1875 [==============================] - 4s 2ms/step - loss: 0.6728 - val_loss: 0.6720\n",
      "Epoch 40/100\n",
      "1875/1875 [==============================] - 5s 2ms/step - loss: 0.6317 - val_loss: 0.6193\n",
      "Epoch 41/100\n",
      "1875/1875 [==============================] - 4s 2ms/step - loss: 0.6039 - val_loss: 0.6167\n",
      "Epoch 42/100\n",
      "1875/1875 [==============================] - 4s 2ms/step - loss: 0.6141 - val_loss: 0.5979\n",
      "Epoch 43/100\n",
      "1875/1875 [==============================] - 5s 2ms/step - loss: 0.6126 - val_loss: 0.5950\n",
      "Epoch 44/100\n",
      "1875/1875 [==============================] - 5s 2ms/step - loss: 0.6143 - val_loss: 0.5975\n",
      "Epoch 45/100\n",
      "1875/1875 [==============================] - 5s 2ms/step - loss: 0.5810 - val_loss: 0.5788\n"
     ]
    }
   ],
   "source": [
    "encoder = keras.models.Sequential([\n",
    "    keras.layers.Dense(200, activation='selu'),\n",
    "    keras.layers.Dense(50, activation='selu'),\n",
    "    keras.layers.Dense(5, activation='selu'),\n",
    "])\n",
    "\n",
    "decoder = keras.models.Sequential([\n",
    "    keras.layers.Dense(50,activation='selu'),\n",
    "    keras.layers.Dense(200, activation='selu'),\n",
    "    keras.layers.Dense(num_dim, activation='selu'),\n",
    "])\n",
    "\n",
    "autoencoder = keras.models.Sequential([encoder, decoder])\n",
    "\n",
    "# Compilamos el modelo\n",
    "autoencoder.compile(\n",
    "    loss='mse', \n",
    "    optimizer=keras.optimizers.SGD(learning_rate=0.1)\n",
    ")\n",
    "\n",
    "# El entrenamiento toma los datos originales, los codifica/decodifica \n",
    "# en vectores de la misma dimensión.\n",
    "# Decidimos que debe parar si la métrica del MSE no mejora en 10 épocas. \n",
    "autoencoder.fit(\n",
    "    X_train_std, X_train_std, \n",
    "    epochs=100, validation_data=(X_test_std, X_test_std),\n",
    "    callbacks=[keras.callbacks.EarlyStopping(patience=10)]\n",
    ")\n",
    "\n",
    "# Ahora vamos a reducir la dimensión del dataset de prueba\n",
    "# Simplemente llamamos al encoder\n",
    "X_auto_deep_relu = encoder.predict(X_test_std)"
   ]
  },
  {
   "cell_type": "markdown",
   "id": "7e505219",
   "metadata": {},
   "source": [
    "Ahora, vamos a probar el desempeño en el problema de clasificación para este _dataset_."
   ]
  },
  {
   "cell_type": "code",
   "execution_count": 21,
   "id": "5d3b7b60",
   "metadata": {},
   "outputs": [
    {
     "data": {
      "text/plain": [
       "0.6845"
      ]
     },
     "execution_count": 21,
     "metadata": {},
     "output_type": "execute_result"
    }
   ],
   "source": [
    "scores = cross_val_score(clf, X_auto_deep_relu, y_test, cv=5, scoring='accuracy')\n",
    "np.mean(scores)"
   ]
  },
  {
   "cell_type": "markdown",
   "id": "e836b916",
   "metadata": {},
   "source": [
    "Como vemos, hemos mejorado bastante con respecto a nuestro _baseline_. Finalmente, vamos a repetir el ejercicio de visualización, pero ahora con esto _autoencoder_."
   ]
  },
  {
   "cell_type": "code",
   "execution_count": 22,
   "id": "3f254059",
   "metadata": {},
   "outputs": [
    {
     "data": {
      "text/plain": [
       "array([[-1.7580785 , -1.2411677 ,  2.5868561 , -0.44534963, -0.796676  ]],\n",
       "      dtype=float32)"
      ]
     },
     "execution_count": 22,
     "metadata": {},
     "output_type": "execute_result"
    }
   ],
   "source": [
    "some_digit_std = std_sclr.transform([some_digit])\n",
    "some_digit_compressed = encoder.predict(some_digit_std)\n",
    "some_digit_compressed"
   ]
  },
  {
   "cell_type": "code",
   "execution_count": 23,
   "id": "ad7974ed",
   "metadata": {},
   "outputs": [
    {
     "data": {
      "text/plain": [
       "(1, 5)"
      ]
     },
     "execution_count": 23,
     "metadata": {},
     "output_type": "execute_result"
    }
   ],
   "source": [
    "some_digit_compressed.shape"
   ]
  },
  {
   "cell_type": "code",
   "execution_count": 24,
   "id": "07541635",
   "metadata": {},
   "outputs": [
    {
     "data": {
      "text/plain": [
       "(1, 784)"
      ]
     },
     "execution_count": 24,
     "metadata": {},
     "output_type": "execute_result"
    }
   ],
   "source": [
    "some_digit_inv = decoder.predict(some_digit_compressed)\n",
    "some_digit_inv_no_std = std_sclr.inverse_transform(some_digit_inv)\n",
    "some_digit_inv_no_std.shape"
   ]
  },
  {
   "cell_type": "code",
   "execution_count": 25,
   "id": "56785d78",
   "metadata": {},
   "outputs": [
    {
     "data": {
      "image/png": "[encoded data removed]",
      "text/plain": [
       "<Figure size 432x288 with 1 Axes>"
      ]
     },
     "metadata": {
      "needs_background": "light"
     },
     "output_type": "display_data"
    }
   ],
   "source": [
    "some_digit_image_v2 = some_digit_inv_no_std[0].reshape(28, 28)\n",
    "\n",
    "plt.imshow(some_digit_image_v2, cmap='binary')\n",
    "plt.axis('off')\n",
    "plt.show()"
   ]
  },
  {
   "cell_type": "markdown",
   "id": "b7d7fda4",
   "metadata": {},
   "source": [
    "Como vemos, es una mejora notable respecto a las otras compresiones."
   ]
  }
 ],
 "metadata": {
  "kernelspec": {
   "display_name": "Python 3 (ipykernel)",
   "language": "python",
   "name": "python3"
  },
  "language_info": {
   "codemirror_mode": {
    "name": "ipython",
    "version": 3
   },
   "file_extension": ".py",
   "mimetype": "text/x-python",
   "name": "python",
   "nbconvert_exporter": "python",
   "pygments_lexer": "ipython3",
   "version": "3.9.9"
  }
 },
 "nbformat": 4,
 "nbformat_minor": 5
}
