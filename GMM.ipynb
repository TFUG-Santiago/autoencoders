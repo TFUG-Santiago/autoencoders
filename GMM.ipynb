{
 "cells": [
  {
   "cell_type": "markdown",
   "id": "7a95dbbb",
   "metadata": {},
   "source": [
    "# GMM\n",
    "\n",
    "En este _notebook_ exploraremos el uso de la técnica _Gaussian Mixture Models_ para hacer _clustering_. La idea es poder entender cómo usar este modelo con la librería Scikit Learn, cómo encontrar _outliers_ y entender el grafo de densidad de probabilidades.\n",
    "\n",
    "## Cargando el dataset\n",
    "\n",
    "Vamos a partir creando un _dataset_ que tiene 3 clusters."
   ]
  },
  {
   "cell_type": "code",
   "execution_count": 6,
   "id": "09f91eb7",
   "metadata": {},
   "outputs": [
    {
     "data": {
      "text/html": [
       "<div>\n",
       "<style scoped>\n",
       "    .dataframe tbody tr th:only-of-type {\n",
       "        vertical-align: middle;\n",
       "    }\n",
       "\n",
       "    .dataframe tbody tr th {\n",
       "        vertical-align: top;\n",
       "    }\n",
       "\n",
       "    .dataframe thead th {\n",
       "        text-align: right;\n",
       "    }\n",
       "</style>\n",
       "<table border=\"1\" class=\"dataframe\">\n",
       "  <thead>\n",
       "    <tr style=\"text-align: right;\">\n",
       "      <th></th>\n",
       "      <th>Dimension 1</th>\n",
       "      <th>Dimension 2</th>\n",
       "    </tr>\n",
       "  </thead>\n",
       "  <tbody>\n",
       "    <tr>\n",
       "      <th>0</th>\n",
       "      <td>3.440016</td>\n",
       "      <td>1.226484</td>\n",
       "    </tr>\n",
       "    <tr>\n",
       "      <th>1</th>\n",
       "      <td>4.428736</td>\n",
       "      <td>7.779860</td>\n",
       "    </tr>\n",
       "    <tr>\n",
       "      <th>2</th>\n",
       "      <td>4.096729</td>\n",
       "      <td>6.382363</td>\n",
       "    </tr>\n",
       "    <tr>\n",
       "      <th>3</th>\n",
       "      <td>2.585522</td>\n",
       "      <td>0.625648</td>\n",
       "    </tr>\n",
       "    <tr>\n",
       "      <th>4</th>\n",
       "      <td>4.456456</td>\n",
       "      <td>8.539117</td>\n",
       "    </tr>\n",
       "    <tr>\n",
       "      <th>...</th>\n",
       "      <td>...</td>\n",
       "      <td>...</td>\n",
       "    </tr>\n",
       "    <tr>\n",
       "      <th>95</th>\n",
       "      <td>3.358592</td>\n",
       "      <td>1.061464</td>\n",
       "    </tr>\n",
       "    <tr>\n",
       "      <th>96</th>\n",
       "      <td>4.069784</td>\n",
       "      <td>7.482942</td>\n",
       "    </tr>\n",
       "    <tr>\n",
       "      <th>97</th>\n",
       "      <td>2.878438</td>\n",
       "      <td>1.567649</td>\n",
       "    </tr>\n",
       "    <tr>\n",
       "      <th>98</th>\n",
       "      <td>4.165975</td>\n",
       "      <td>7.336527</td>\n",
       "    </tr>\n",
       "    <tr>\n",
       "      <th>99</th>\n",
       "      <td>3.237260</td>\n",
       "      <td>0.647541</td>\n",
       "    </tr>\n",
       "  </tbody>\n",
       "</table>\n",
       "<p>100 rows × 2 columns</p>\n",
       "</div>"
      ],
      "text/plain": [
       "    Dimension 1  Dimension 2\n",
       "0      3.440016     1.226484\n",
       "1      4.428736     7.779860\n",
       "2      4.096729     6.382363\n",
       "3      2.585522     0.625648\n",
       "4      4.456456     8.539117\n",
       "..          ...          ...\n",
       "95     3.358592     1.061464\n",
       "96     4.069784     7.482942\n",
       "97     2.878438     1.567649\n",
       "98     4.165975     7.336527\n",
       "99     3.237260     0.647541\n",
       "\n",
       "[100 rows x 2 columns]"
      ]
     },
     "execution_count": 6,
     "metadata": {},
     "output_type": "execute_result"
    }
   ],
   "source": [
    "from sklearn.datasets import make_blobs\n",
    "import pandas as pd\n",
    "\n",
    "clusters = make_blobs(\n",
    "    n_samples=100,\n",
    "    centers=[(0, 0), (3, 1), (4, 7)], \n",
    "    cluster_std=[0.3, 0.5, 0.7]\n",
    ")\n",
    "X = pd.DataFrame(clusters[0], columns=[\"Dimension 1\", \"Dimension 2\"])\n",
    "X"
   ]
  },
  {
   "cell_type": "markdown",
   "id": "a8e7a74c",
   "metadata": {},
   "source": [
    "Vamos a visualizar el _dataset_."
   ]
  },
  {
   "cell_type": "code",
   "execution_count": 7,
   "id": "f9ad9243",
   "metadata": {},
   "outputs": [
    {
     "data": {
      "text/plain": [
       "<AxesSubplot:xlabel='Dimension 1', ylabel='Dimension 2'>"
      ]
     },
     "execution_count": 7,
     "metadata": {},
     "output_type": "execute_result"
    },
    {
     "data": {
      "image/png": "[encoded data removed]",
      "text/plain": [
       "<Figure size 432x288 with 1 Axes>"
      ]
     },
     "metadata": {
      "needs_background": "light"
     },
     "output_type": "display_data"
    }
   ],
   "source": [
    "import seaborn as sns\n",
    "\n",
    "sns.scatterplot(data=X, x=\"Dimension 1\", y=\"Dimension 2\")"
   ]
  },
  {
   "cell_type": "markdown",
   "id": "8f4151dc",
   "metadata": {},
   "source": [
    "Ahora vamos a entrenar un modelo GMM para hacer _clustering_ del _dataset_."
   ]
  },
  {
   "cell_type": "code",
   "execution_count": 8,
   "id": "bf98c952",
   "metadata": {},
   "outputs": [
    {
     "data": {
      "text/plain": [
       "GaussianMixture(n_components=3, n_init=8)"
      ]
     },
     "execution_count": 8,
     "metadata": {},
     "output_type": "execute_result"
    }
   ],
   "source": [
    "from sklearn.mixture import GaussianMixture\n",
    "\n",
    "gm = GaussianMixture(n_components=3, n_init=8)\n",
    "gm.fit(X)"
   ]
  },
  {
   "cell_type": "markdown",
   "id": "9e83025b",
   "metadata": {},
   "source": [
    "Ahora podemos revisar los parámetros de las 3 distribuciones normales."
   ]
  },
  {
   "cell_type": "code",
   "execution_count": 9,
   "id": "8fd2e5bb",
   "metadata": {},
   "outputs": [
    {
     "data": {
      "text/plain": [
       "array([0.33000603, 0.33      , 0.33999397])"
      ]
     },
     "execution_count": 9,
     "metadata": {},
     "output_type": "execute_result"
    }
   ],
   "source": [
    "gm.weights_"
   ]
  },
  {
   "cell_type": "code",
   "execution_count": 10,
   "id": "9cdd04e2",
   "metadata": {},
   "outputs": [
    {
     "data": {
      "text/plain": [
       "array([[2.91376246, 1.08545666],\n",
       "       [4.04093501, 7.04639508],\n",
       "       [0.0271932 , 0.01821283]])"
      ]
     },
     "execution_count": 10,
     "metadata": {},
     "output_type": "execute_result"
    }
   ],
   "source": [
    "gm.means_"
   ]
  },
  {
   "cell_type": "code",
   "execution_count": 11,
   "id": "66576089",
   "metadata": {},
   "outputs": [
    {
     "data": {
      "text/plain": [
       "array([[[ 0.41300116,  0.00342491],\n",
       "        [ 0.00342491,  0.14194061]],\n",
       "\n",
       "       [[ 0.34056296, -0.06039824],\n",
       "        [-0.06039824,  0.40486404]],\n",
       "\n",
       "       [[ 0.08996599, -0.01050872],\n",
       "        [-0.01050872,  0.07587888]]])"
      ]
     },
     "execution_count": 11,
     "metadata": {},
     "output_type": "execute_result"
    }
   ],
   "source": [
    "gm.covariances_"
   ]
  },
  {
   "cell_type": "markdown",
   "id": "a131a599",
   "metadata": {},
   "source": [
    "También podemos preguntar si el algoritmo pudo converger."
   ]
  },
  {
   "cell_type": "code",
   "execution_count": 12,
   "id": "ecb68cc4",
   "metadata": {},
   "outputs": [
    {
     "data": {
      "text/plain": [
       "True"
      ]
     },
     "execution_count": 12,
     "metadata": {},
     "output_type": "execute_result"
    }
   ],
   "source": [
    "gm.converged_"
   ]
  },
  {
   "cell_type": "markdown",
   "id": "21736789",
   "metadata": {},
   "source": [
    "Ahora vamos a predecir y vamos a visualizar los _clusters_."
   ]
  },
  {
   "cell_type": "code",
   "execution_count": 13,
   "id": "20e18b48",
   "metadata": {},
   "outputs": [
    {
     "data": {
      "text/plain": [
       "array([[1.00000000e+000, 2.59331747e-020, 1.08074932e-035],\n",
       "       [1.27940619e-069, 1.00000000e+000, 1.35486829e-245],\n",
       "       [8.10902243e-044, 1.00000000e+000, 7.19714086e-176],\n",
       "       [1.00000000e+000, 1.86508227e-026, 4.71124873e-018],\n",
       "       [4.69198262e-085, 1.00000000e+000, 1.41450779e-283],\n",
       "       [6.90443446e-009, 1.30277692e-049, 9.99999993e-001],\n",
       "       [1.40838899e-046, 1.00000000e+000, 2.16623611e-153],\n",
       "       [4.44047177e-066, 1.00000000e+000, 2.69004168e-220],\n",
       "       [1.00000000e+000, 5.69431606e-025, 6.95869425e-025],\n",
       "       [3.62668958e-008, 5.28409445e-047, 9.99999964e-001],\n",
       "       [3.22517747e-049, 1.00000000e+000, 5.64048556e-182],\n",
       "       [5.58521885e-007, 2.98443143e-044, 9.99999441e-001],\n",
       "       [1.00000000e+000, 1.84065564e-023, 3.99565941e-023],\n",
       "       [1.00000000e+000, 4.17325400e-020, 2.60219127e-030],\n",
       "       [5.67334401e-007, 1.33905779e-044, 9.99999433e-001],\n",
       "       [1.00000000e+000, 1.63013701e-023, 4.32081791e-020],\n",
       "       [3.49790730e-007, 2.55244414e-044, 9.99999650e-001],\n",
       "       [1.64124948e-049, 1.00000000e+000, 1.15750419e-184],\n",
       "       [1.01702829e-043, 1.00000000e+000, 7.30587449e-179],\n",
       "       [3.16749673e-007, 5.90037289e-045, 9.99999683e-001],\n",
       "       [2.46870882e-039, 1.00000000e+000, 3.49774498e-178],\n",
       "       [4.69972018e-006, 8.56035134e-042, 9.99995300e-001],\n",
       "       [4.51134607e-041, 1.00000000e+000, 1.70523194e-187],\n",
       "       [2.54436136e-008, 1.42623180e-047, 9.99999975e-001],\n",
       "       [4.14743273e-047, 1.00000000e+000, 3.43647955e-196],\n",
       "       [2.97990337e-008, 1.91960697e-047, 9.99999970e-001],\n",
       "       [5.24911158e-048, 1.00000000e+000, 3.86949704e-185],\n",
       "       [3.48982181e-053, 1.00000000e+000, 1.25548890e-189],\n",
       "       [2.35776705e-059, 1.00000000e+000, 1.01883993e-207],\n",
       "       [1.44477630e-041, 1.00000000e+000, 6.27715036e-177],\n",
       "       [1.00000000e+000, 9.24923237e-020, 2.04429004e-038],\n",
       "       [1.00000000e+000, 4.59942191e-023, 1.17190550e-020],\n",
       "       [1.00000000e+000, 2.94202571e-022, 3.17320050e-025],\n",
       "       [1.00000000e+000, 4.11808240e-012, 4.58582851e-054],\n",
       "       [5.68328024e-067, 1.00000000e+000, 2.86482826e-222],\n",
       "       [1.00000000e+000, 1.57046386e-027, 1.26822628e-021],\n",
       "       [9.36679509e-043, 1.00000000e+000, 1.87051510e-155],\n",
       "       [1.00000000e+000, 6.03696616e-026, 9.63168799e-016],\n",
       "       [5.25127614e-008, 8.73485586e-047, 9.99999947e-001],\n",
       "       [1.00000000e+000, 7.33426725e-022, 1.39114117e-029],\n",
       "       [1.00000000e+000, 3.65285928e-022, 1.86073850e-023],\n",
       "       [2.59299464e-007, 1.11602930e-045, 9.99999741e-001],\n",
       "       [9.99999854e-001, 1.68867186e-025, 1.46428792e-007],\n",
       "       [1.91349236e-005, 5.03286774e-040, 9.99980865e-001],\n",
       "       [1.00000000e+000, 1.33978883e-019, 9.18144445e-038],\n",
       "       [9.99999983e-001, 9.75846089e-027, 1.68121602e-008],\n",
       "       [3.26034064e-055, 1.00000000e+000, 9.25322928e-195],\n",
       "       [2.99222445e-055, 1.00000000e+000, 8.90982844e-193],\n",
       "       [1.65029610e-076, 1.00000000e+000, 9.28776595e-267],\n",
       "       [6.75364024e-007, 7.58549434e-044, 9.99999325e-001],\n",
       "       [1.25142322e-007, 9.58686012e-046, 9.99999875e-001],\n",
       "       [1.33556113e-005, 2.96283776e-042, 9.99986644e-001],\n",
       "       [3.78795901e-008, 5.73115198e-047, 9.99999962e-001],\n",
       "       [6.11907214e-007, 1.01014646e-043, 9.99999388e-001],\n",
       "       [2.31971838e-005, 1.85494416e-040, 9.99976803e-001],\n",
       "       [3.95679657e-049, 1.00000000e+000, 1.32441099e-192],\n",
       "       [1.14135211e-004, 1.95895151e-039, 9.99885865e-001],\n",
       "       [1.41936318e-008, 3.12027015e-048, 9.99999986e-001],\n",
       "       [1.96631954e-049, 1.00000000e+000, 4.44558483e-179],\n",
       "       [3.71582209e-005, 2.37710589e-040, 9.99962842e-001],\n",
       "       [1.64329988e-038, 1.00000000e+000, 6.86131225e-196],\n",
       "       [7.74049206e-008, 2.34008562e-046, 9.99999923e-001],\n",
       "       [2.22543749e-008, 1.16846516e-047, 9.99999978e-001],\n",
       "       [1.67460894e-055, 1.00000000e+000, 5.94976523e-206],\n",
       "       [1.00000000e+000, 9.21571192e-024, 1.80894645e-023],\n",
       "       [1.00000000e+000, 6.65667657e-022, 1.41106997e-025],\n",
       "       [4.47689094e-006, 1.17438944e-041, 9.99995523e-001],\n",
       "       [5.72136532e-006, 1.21655256e-041, 9.99994279e-001],\n",
       "       [4.97070212e-008, 9.07279534e-047, 9.99999950e-001],\n",
       "       [9.58027605e-007, 5.39195831e-044, 9.99999042e-001],\n",
       "       [1.00000000e+000, 1.75671491e-022, 2.48448937e-029],\n",
       "       [1.00000000e+000, 1.42032027e-024, 2.24058380e-015],\n",
       "       [6.64139390e-009, 2.64374757e-049, 9.99999993e-001],\n",
       "       [1.27752216e-006, 2.36270654e-043, 9.99998722e-001],\n",
       "       [2.63555289e-007, 8.40904699e-045, 9.99999736e-001],\n",
       "       [1.00000000e+000, 7.55133699e-020, 1.94207200e-046],\n",
       "       [1.00000000e+000, 6.27204123e-019, 4.76399103e-038],\n",
       "       [7.89664494e-064, 1.00000000e+000, 1.89317531e-227],\n",
       "       [1.00000000e+000, 1.35873579e-023, 2.58871249e-025],\n",
       "       [1.00000000e+000, 1.00498758e-025, 3.80451068e-026],\n",
       "       [1.00042455e-069, 1.00000000e+000, 3.61576738e-219],\n",
       "       [1.00000000e+000, 2.76760427e-018, 2.43940495e-032],\n",
       "       [3.00059806e-050, 1.00000000e+000, 1.83978987e-210],\n",
       "       [9.42359051e-007, 1.78028756e-043, 9.99999058e-001],\n",
       "       [1.17516554e-006, 4.29459825e-043, 9.99998825e-001],\n",
       "       [3.70225844e-004, 5.14565917e-038, 9.99629774e-001],\n",
       "       [3.11263060e-067, 1.00000000e+000, 6.30950678e-232],\n",
       "       [2.67411455e-006, 4.54713641e-042, 9.99997326e-001],\n",
       "       [6.52082897e-054, 1.00000000e+000, 1.63122900e-176],\n",
       "       [1.00000000e+000, 1.70170185e-021, 5.01883976e-033],\n",
       "       [2.81042736e-072, 1.00000000e+000, 2.89698693e-243],\n",
       "       [1.00000000e+000, 3.61084761e-021, 2.79219048e-032],\n",
       "       [1.49236244e-066, 1.00000000e+000, 2.43271626e-230],\n",
       "       [1.00000000e+000, 6.77568475e-026, 3.30516507e-029],\n",
       "       [1.00000000e+000, 1.74635268e-025, 3.85205350e-012],\n",
       "       [1.00000000e+000, 1.22636596e-021, 6.81057715e-033],\n",
       "       [1.40303265e-063, 1.00000000e+000, 1.21679529e-222],\n",
       "       [1.00000000e+000, 3.23907076e-019, 8.12949171e-030],\n",
       "       [6.69366305e-061, 1.00000000e+000, 2.13834210e-218],\n",
       "       [1.00000000e+000, 1.53636531e-024, 1.07153400e-027]])"
      ]
     },
     "execution_count": 13,
     "metadata": {},
     "output_type": "execute_result"
    }
   ],
   "source": [
    "# Primero vemos las probabilidades de pertenencia de cada elemento\n",
    "\n",
    "gm.predict_proba(X)"
   ]
  },
  {
   "cell_type": "code",
   "execution_count": 14,
   "id": "666bd39c",
   "metadata": {},
   "outputs": [
    {
     "data": {
      "text/html": [
       "<div>\n",
       "<style scoped>\n",
       "    .dataframe tbody tr th:only-of-type {\n",
       "        vertical-align: middle;\n",
       "    }\n",
       "\n",
       "    .dataframe tbody tr th {\n",
       "        vertical-align: top;\n",
       "    }\n",
       "\n",
       "    .dataframe thead th {\n",
       "        text-align: right;\n",
       "    }\n",
       "</style>\n",
       "<table border=\"1\" class=\"dataframe\">\n",
       "  <thead>\n",
       "    <tr style=\"text-align: right;\">\n",
       "      <th></th>\n",
       "      <th>Cluster</th>\n",
       "    </tr>\n",
       "  </thead>\n",
       "  <tbody>\n",
       "    <tr>\n",
       "      <th>0</th>\n",
       "      <td>0</td>\n",
       "    </tr>\n",
       "    <tr>\n",
       "      <th>1</th>\n",
       "      <td>1</td>\n",
       "    </tr>\n",
       "    <tr>\n",
       "      <th>2</th>\n",
       "      <td>1</td>\n",
       "    </tr>\n",
       "    <tr>\n",
       "      <th>3</th>\n",
       "      <td>0</td>\n",
       "    </tr>\n",
       "    <tr>\n",
       "      <th>4</th>\n",
       "      <td>1</td>\n",
       "    </tr>\n",
       "    <tr>\n",
       "      <th>...</th>\n",
       "      <td>...</td>\n",
       "    </tr>\n",
       "    <tr>\n",
       "      <th>95</th>\n",
       "      <td>0</td>\n",
       "    </tr>\n",
       "    <tr>\n",
       "      <th>96</th>\n",
       "      <td>1</td>\n",
       "    </tr>\n",
       "    <tr>\n",
       "      <th>97</th>\n",
       "      <td>0</td>\n",
       "    </tr>\n",
       "    <tr>\n",
       "      <th>98</th>\n",
       "      <td>1</td>\n",
       "    </tr>\n",
       "    <tr>\n",
       "      <th>99</th>\n",
       "      <td>0</td>\n",
       "    </tr>\n",
       "  </tbody>\n",
       "</table>\n",
       "<p>100 rows × 1 columns</p>\n",
       "</div>"
      ],
      "text/plain": [
       "    Cluster\n",
       "0         0\n",
       "1         1\n",
       "2         1\n",
       "3         0\n",
       "4         1\n",
       "..      ...\n",
       "95        0\n",
       "96        1\n",
       "97        0\n",
       "98        1\n",
       "99        0\n",
       "\n",
       "[100 rows x 1 columns]"
      ]
     },
     "execution_count": 14,
     "metadata": {},
     "output_type": "execute_result"
    }
   ],
   "source": [
    "# Y ahora vamos a predecir\n",
    "\n",
    "y_pred = gm.predict(X)\n",
    "y_clusters = pd.DataFrame(y_pred, columns=[\"Cluster\"])\n",
    "y_clusters"
   ]
  },
  {
   "cell_type": "code",
   "execution_count": 15,
   "id": "fb88c6eb",
   "metadata": {},
   "outputs": [
    {
     "data": {
      "text/html": [
       "<div>\n",
       "<style scoped>\n",
       "    .dataframe tbody tr th:only-of-type {\n",
       "        vertical-align: middle;\n",
       "    }\n",
       "\n",
       "    .dataframe tbody tr th {\n",
       "        vertical-align: top;\n",
       "    }\n",
       "\n",
       "    .dataframe thead th {\n",
       "        text-align: right;\n",
       "    }\n",
       "</style>\n",
       "<table border=\"1\" class=\"dataframe\">\n",
       "  <thead>\n",
       "    <tr style=\"text-align: right;\">\n",
       "      <th></th>\n",
       "      <th>Dimension 1</th>\n",
       "      <th>Dimension 2</th>\n",
       "      <th>Cluster</th>\n",
       "    </tr>\n",
       "  </thead>\n",
       "  <tbody>\n",
       "    <tr>\n",
       "      <th>0</th>\n",
       "      <td>3.440016</td>\n",
       "      <td>1.226484</td>\n",
       "      <td>0</td>\n",
       "    </tr>\n",
       "    <tr>\n",
       "      <th>1</th>\n",
       "      <td>4.428736</td>\n",
       "      <td>7.779860</td>\n",
       "      <td>1</td>\n",
       "    </tr>\n",
       "    <tr>\n",
       "      <th>2</th>\n",
       "      <td>4.096729</td>\n",
       "      <td>6.382363</td>\n",
       "      <td>1</td>\n",
       "    </tr>\n",
       "    <tr>\n",
       "      <th>3</th>\n",
       "      <td>2.585522</td>\n",
       "      <td>0.625648</td>\n",
       "      <td>0</td>\n",
       "    </tr>\n",
       "    <tr>\n",
       "      <th>4</th>\n",
       "      <td>4.456456</td>\n",
       "      <td>8.539117</td>\n",
       "      <td>1</td>\n",
       "    </tr>\n",
       "    <tr>\n",
       "      <th>...</th>\n",
       "      <td>...</td>\n",
       "      <td>...</td>\n",
       "      <td>...</td>\n",
       "    </tr>\n",
       "    <tr>\n",
       "      <th>95</th>\n",
       "      <td>3.358592</td>\n",
       "      <td>1.061464</td>\n",
       "      <td>0</td>\n",
       "    </tr>\n",
       "    <tr>\n",
       "      <th>96</th>\n",
       "      <td>4.069784</td>\n",
       "      <td>7.482942</td>\n",
       "      <td>1</td>\n",
       "    </tr>\n",
       "    <tr>\n",
       "      <th>97</th>\n",
       "      <td>2.878438</td>\n",
       "      <td>1.567649</td>\n",
       "      <td>0</td>\n",
       "    </tr>\n",
       "    <tr>\n",
       "      <th>98</th>\n",
       "      <td>4.165975</td>\n",
       "      <td>7.336527</td>\n",
       "      <td>1</td>\n",
       "    </tr>\n",
       "    <tr>\n",
       "      <th>99</th>\n",
       "      <td>3.237260</td>\n",
       "      <td>0.647541</td>\n",
       "      <td>0</td>\n",
       "    </tr>\n",
       "  </tbody>\n",
       "</table>\n",
       "<p>100 rows × 3 columns</p>\n",
       "</div>"
      ],
      "text/plain": [
       "    Dimension 1  Dimension 2  Cluster\n",
       "0      3.440016     1.226484        0\n",
       "1      4.428736     7.779860        1\n",
       "2      4.096729     6.382363        1\n",
       "3      2.585522     0.625648        0\n",
       "4      4.456456     8.539117        1\n",
       "..          ...          ...      ...\n",
       "95     3.358592     1.061464        0\n",
       "96     4.069784     7.482942        1\n",
       "97     2.878438     1.567649        0\n",
       "98     4.165975     7.336527        1\n",
       "99     3.237260     0.647541        0\n",
       "\n",
       "[100 rows x 3 columns]"
      ]
     },
     "execution_count": 15,
     "metadata": {},
     "output_type": "execute_result"
    }
   ],
   "source": [
    "# Ahora a visualizar\n",
    "\n",
    "df = X.join(y_clusters)\n",
    "df"
   ]
  },
  {
   "cell_type": "code",
   "execution_count": 16,
   "id": "07631b0d",
   "metadata": {},
   "outputs": [
    {
     "data": {
      "text/plain": [
       "<AxesSubplot:xlabel='Dimension 1', ylabel='Dimension 2'>"
      ]
     },
     "execution_count": 16,
     "metadata": {},
     "output_type": "execute_result"
    },
    {
     "data": {
      "image/png": "[encoded data removed]",
      "text/plain": [
       "<Figure size 432x288 with 1 Axes>"
      ]
     },
     "metadata": {
      "needs_background": "light"
     },
     "output_type": "display_data"
    }
   ],
   "source": [
    "sns.scatterplot(data=df, x=\"Dimension 1\", y=\"Dimension 2\", hue=\"Cluster\", palette=\"deep\")"
   ]
  },
  {
   "cell_type": "markdown",
   "id": "edf3b535",
   "metadata": {},
   "source": [
    "Como vemos, cada punto pertenece al _cluster_ que teenía una mayor probabilidad. Sin embargo, recordemos que este método sirve para hacer _soft clustering_, es decir, al revisar las probabilidades podemos entender que un punto podría pertenecer a más de un _cluster_ a la vez.\n",
    "\n",
    "## Graficando las distribuciones\n",
    "\n",
    "Ahora vamos a graficar las distribuciones de probabilidad. La idea es visualizar en qué zonas la función de densidad de probabilidad es mayor. Ojo, esto ocurre en los centros, donde se ubican las medias.\n",
    "\n",
    "**Ojo**: la función de más abajo, `score_samples` estima el logaritmo de la función de densidad de probabilidad en el punto. Para obtener el valor de la densidad, debemos usar la función exponencial."
   ]
  },
  {
   "cell_type": "code",
   "execution_count": 17,
   "id": "633ff8d9",
   "metadata": {},
   "outputs": [
    {
     "data": {
      "text/plain": [
       "array([-1.92918138, -2.9796707 , -2.48982823, -2.39465086, -5.30850687,\n",
       "       -3.51655387, -5.85042458, -2.47113131, -2.19319682, -0.90774555,\n",
       "       -2.2267892 , -0.60935524, -1.574711  , -1.89962044, -1.22756874,\n",
       "       -1.79054151, -0.7443316 , -2.14008781, -2.52913362, -3.38949915,\n",
       "       -3.48061762, -0.87250893, -3.67432701, -1.56722941, -2.67180925,\n",
       "       -1.17054944, -2.16023363, -2.1598298 , -2.04163183, -2.84795594,\n",
       "       -2.16458035, -1.82192392, -1.57758639, -6.59506304, -2.54069895,\n",
       "       -4.294008  , -3.84373295, -2.1988628 , -0.93270062, -1.58512086,\n",
       "       -1.73497894, -2.06771713, -6.05618095, -2.40866142, -2.1298175 ,\n",
       "       -4.10007855, -2.11346715, -2.23083896, -4.16575168, -0.46253391,\n",
       "       -0.58987502, -2.86288755, -0.77654635, -1.66089276, -1.35438785,\n",
       "       -2.15770269, -2.11850664, -1.32159073, -2.40650589, -1.62729948,\n",
       "       -5.75983837, -2.1204364 , -1.27465994, -1.97532159, -1.59773785,\n",
       "       -1.62554189, -1.10759474, -0.91011514, -0.80023359, -1.05978236,\n",
       "       -1.62688255, -2.38531636, -2.05305268, -0.61739226, -0.41718088,\n",
       "       -3.27520176, -2.27047421, -2.29917261, -1.61853329, -3.11775016,\n",
       "       -3.49637039, -2.65842242, -3.09213579, -0.4980007 , -0.63505528,\n",
       "       -2.58132349, -2.45719553, -1.84845695, -3.90720981, -1.76391196,\n",
       "       -2.93971794, -1.70039123, -2.40296915, -4.23970825, -3.04295198,\n",
       "       -1.77035054, -2.19112624, -2.34980503, -2.0891371 , -2.33876016])"
      ]
     },
     "execution_count": 17,
     "metadata": {},
     "output_type": "execute_result"
    }
   ],
   "source": [
    "# Para obtener la densidad de probabilidad en cada punto hacemos esto\n",
    "proba = gm.score_samples(X)\n",
    "proba"
   ]
  },
  {
   "cell_type": "code",
   "execution_count": 18,
   "id": "0b9ad21f",
   "metadata": {},
   "outputs": [
    {
     "data": {
      "text/plain": [
       "<AxesSubplot:xlabel='Dimension 1', ylabel='Dimension 2'>"
      ]
     },
     "execution_count": 18,
     "metadata": {},
     "output_type": "execute_result"
    },
    {
     "data": {
      "image/png": "[encoded data removed]",
      "text/plain": [
       "<Figure size 432x288 with 1 Axes>"
      ]
     },
     "metadata": {
      "needs_background": "light"
     },
     "output_type": "display_data"
    }
   ],
   "source": [
    "import matplotlib.pyplot as plt\n",
    "from matplotlib.colors import ListedColormap\n",
    "import numpy as np\n",
    "\n",
    "pallete_back = sns.color_palette(\"viridis\", as_cmap=True)\n",
    "\n",
    "x_min, x_max = X[\"Dimension 1\"].min() - 1, X[\"Dimension 1\"].max() + 1\n",
    "y_min, y_max = X[\"Dimension 2\"].min() - 1, X[\"Dimension 2\"].max() + 1\n",
    "\n",
    "# Generamos las combinaciones de x/y del plano en los rangos\n",
    "xx, yy = np.meshgrid(np.arange(x_min, x_max, 0.02),\n",
    "                     np.arange(y_min, y_max, 0.02))\n",
    "\n",
    "proba = gm.score_samples(np.c_[xx.ravel(), yy.ravel()])\n",
    "proba = np.exp(proba)\n",
    "\n",
    "p_20 = np.percentile(proba, 20)\n",
    "p_40 = np.percentile(proba, 40)\n",
    "p_60 = np.percentile(proba, 60)\n",
    "p_80 = np.percentile(proba, 80)\n",
    "p_90 = np.percentile(proba, 90)\n",
    "\n",
    "proba_copy = np.zeros(len(proba))\n",
    "for i in range(len(proba)):\n",
    "    if proba[i] <= p_20:\n",
    "        proba_copy[i] = 0\n",
    "    elif proba[i] <= p_40:\n",
    "        proba_copy[i] = 1\n",
    "    elif proba[i] <= p_60:\n",
    "        proba_copy[i] = 2\n",
    "    elif proba[i] <= p_80:\n",
    "        proba_copy[i] = 3\n",
    "    elif proba[i] <= p_90:\n",
    "        proba_copy[i] = 4\n",
    "    else:\n",
    "        proba_copy[i] = 5\n",
    "    \n",
    "        \n",
    "Z = proba_copy.reshape(xx.shape)\n",
    "plt.figure()\n",
    "\n",
    "plt.pcolormesh(xx, yy, Z, cmap=pallete_back, shading='auto', alpha=0.2)\n",
    "sns.scatterplot(data=df, x=\"Dimension 1\", y=\"Dimension 2\", hue=\"Cluster\", palette=\"deep\")"
   ]
  },
  {
   "cell_type": "markdown",
   "id": "3ee404dc",
   "metadata": {},
   "source": [
    "De esta forma podemos entender las zonas donde cada una de las distribuciones tiene un mayor valor en su función de densidad, que es el lugar donde está la media. De la misma forma, para detectar outliers, podemos ver los elementos que están en zonas de baja densidad."
   ]
  },
  {
   "cell_type": "code",
   "execution_count": null,
   "id": "1f5751c2",
   "metadata": {},
   "outputs": [],
   "source": []
  }
 ],
 "metadata": {
  "kernelspec": {
   "display_name": "Python 3 (ipykernel)",
   "language": "python",
   "name": "python3"
  },
  "language_info": {
   "codemirror_mode": {
    "name": "ipython",
    "version": 3
   },
   "file_extension": ".py",
   "mimetype": "text/x-python",
   "name": "python",
   "nbconvert_exporter": "python",
   "pygments_lexer": "ipython3",
   "version": "3.9.9"
  }
 },
 "nbformat": 4,
 "nbformat_minor": 5
}
